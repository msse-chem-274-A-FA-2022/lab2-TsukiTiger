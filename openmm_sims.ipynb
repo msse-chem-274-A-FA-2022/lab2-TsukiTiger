{
 "cells": [
  {
   "cell_type": "markdown",
   "metadata": {},
   "source": [
    "# Running Molecular Dynamics Simulations in OpenMM\n",
    "\n",
    "## Overview\n",
    "**Molecular Dynamics Simulation**: simulation of molecules through time via calculations of forces on atoms and their positions based on those forces. The output is a trajectory."
   ]
  },
  {
   "cell_type": "markdown",
   "metadata": {},
   "source": [
    "## Steps for running a simulation\n",
    "1. **Initialization** -- setting up imports, variables, and other system parameters to prepare for the simulation\n",
    "2. **Minimization** -- calculating the energies of moving molecules slightly to obtain a local \"minimum\" in energy and eliminate “bad” interatomic contacts\n",
    "3. **Equilibration** -- a brief MD simulation that prepares our system to our target temperature and desired equilibrium values\n",
    "4. **Production** -- run the equilibration\n",
    "5. **Analysis** -- after you have collected your data from the production run, you must analyze the trajectory to draw conclusions"
   ]
  },
  {
   "cell_type": "markdown",
   "metadata": {},
   "source": [
    "## Our First Simulations\n",
    "We will now use [OpenMM](https://openmm.org/documentation) to do a molecular dynamics simulation of the ethane and butane molecules we prepared. It’s important to note at this point that molecular dynamics simulations can be performed using a number of softwares. However, we will be running a simulation with a program called OpenMM. OpenMM has the advantage of being scriptable with Python."
   ]
  },
  {
   "cell_type": "markdown",
   "metadata": {},
   "source": [
    "---"
   ]
  },
  {
   "cell_type": "markdown",
   "metadata": {},
   "source": [
    "### Initialization\n",
    "Once you have OpenMM, we can use it to simulate our molecules. Start in your notebook with imports. Here are the python libraries you will need to run simulations with OpenMM."
   ]
  },
  {
   "cell_type": "code",
   "execution_count": 1,
   "metadata": {},
   "outputs": [],
   "source": [
    "import openmm as mm\n",
    "from openmm import app, unit"
   ]
  },
  {
   "cell_type": "markdown",
   "metadata": {},
   "source": [
    "First, we need to read in our structure and our force field. We have to tell the simulation our initial coordinates and the force field we will use. To do this, we use the PDB file we have and the force field file we prepared."
   ]
  },
  {
   "cell_type": "code",
   "execution_count": 2,
   "metadata": {},
   "outputs": [],
   "source": [
    "pdb = app.PDBFile('data/ethane.pdb')\n",
    "forcefield = app.ForceField('data/ethane.gaff2.xml')"
   ]
  },
  {
   "cell_type": "markdown",
   "metadata": {},
   "source": [
    "#### QUESTION\n",
    "What are we doing with these two commands above?\n",
    "*(Hint: let's check out some [documentation](http://docs.openmm.org/latest/userguide/application/02_running_sims.html))*\n",
    "\n",
    "#### RESPONSE\n",
    "1. `PDBFile` is to create a `PDBFile` object and call it `pdb` by reading the `ethane.pdb` file in the `/data` directory.\n",
    "2. `ForceField` is to create a `ForceField` object and call it `forcefield` by reading the `ethane.gaff2.xml` file in the `/data` directory."
   ]
  },
  {
   "cell_type": "markdown",
   "metadata": {},
   "source": [
    "#### QUESTION\n",
    "What lies in the contents of the XML file being read in `forcefield`?\n",
    "\n",
    "#### RESPONSE\n",
    "It includes the definition of the force field that specific to ethane. By looking into it, there are codes that define the name, mass, and types of the atoms; and lengthes and angles of the bonds."
   ]
  },
  {
   "cell_type": "markdown",
   "metadata": {},
   "source": [
    "Next, we set up the system for our MD simulation. With the following command, we use the `pdb` variable to create a system. The other arguments to the function say that we are not using a cut-off and that we want to constrain bonds with hydrogens (this allows us to use a larger timestep)."
   ]
  },
  {
   "cell_type": "code",
   "execution_count": 3,
   "metadata": {},
   "outputs": [],
   "source": [
    "system = forcefield.createSystem(pdb.topology, nonbondedMethod=app.NoCutoff, constraints=app.HBonds)"
   ]
  },
  {
   "cell_type": "markdown",
   "metadata": {},
   "source": [
    "Our simulation will be in vacuum at a temperature of 298.15 K. The Langevin integrator is what is called a stochastic integrator. This means that it mimics jostling of air or solvent through random forces. We are using a 5.0 picosecond coupling constant, which is something which controls how often the integrator adds jostling motions."
   ]
  },
  {
   "cell_type": "code",
   "execution_count": 4,
   "metadata": {},
   "outputs": [],
   "source": [
    "integrator = mm.LangevinIntegrator(298.15*unit.kelvin, 5.0/unit.picoseconds, 2.0*unit.femtoseconds)\n",
    "integrator.setConstraintTolerance(1e-5)"
   ]
  },
  {
   "cell_type": "markdown",
   "metadata": {},
   "source": [
    "#### QUESTION\n",
    "What is the `integrator` applying to our simulation?\n",
    "\n",
    "#### RESPONSE\n",
    "The intergrator is specified as `LangevinIntergrator` type of dynamics. Langevin dynamics: the simulation temperature (298.15 K), the friction coefficient (5 ps-1), and the step size (2 fs)."
   ]
  },
  {
   "cell_type": "markdown",
   "metadata": {},
   "source": [
    "Finally, we initialize the simulation by adding all of the pieces we have prepared:"
   ]
  },
  {
   "cell_type": "code",
   "execution_count": 6,
   "metadata": {},
   "outputs": [],
   "source": [
    "platform = mm.Platform.getPlatformByName('Reference')\n",
    "simulation = app.Simulation(pdb.topology, system, integrator, platform) # ENTER THE THREE PIECES OF OUR SIMULATION HERE (hmm... I wonder where I can find this)\n",
    "simulation.context.setPositions(pdb.positions)"
   ]
  },
  {
   "cell_type": "markdown",
   "metadata": {},
   "source": [
    "---"
   ]
  },
  {
   "cell_type": "markdown",
   "metadata": {},
   "source": [
    "### Minimization\n",
    "Now, we start calculating energies. First we do an energy minimization. We start in this code block by printing the energy before minimization, doing 100 steps of an energy minimization, then printing the new energy. You should see that the energy decreases:"
   ]
  },
  {
   "cell_type": "code",
   "execution_count": 7,
   "metadata": {},
   "outputs": [
    {
     "name": "stdout",
     "output_type": "stream",
     "text": [
      "Minimizing...\n",
      "Potential energy before minimization is 4.467818271065182 kJ/mol\n",
      "Potential energy after minimization is 4.389967724953268 kJ/mol\n"
     ]
    }
   ],
   "source": [
    "print('Minimizing...')\n",
    "\n",
    "st = simulation.context.getState(getPositions=True,getEnergy=True)\n",
    "print(F\"Potential energy before minimization is {st.getPotentialEnergy()}\")\n",
    "\n",
    "simulation.minimizeEnergy(maxIterations=100)\n",
    "\n",
    "st = simulation.context.getState(getPositions=True,getEnergy=True)\n",
    "print(F\"Potential energy after minimization is {st.getPotentialEnergy()}\")"
   ]
  },
  {
   "cell_type": "markdown",
   "metadata": {},
   "source": [
    "You can’t see it from this code, but the atom positions have changed slightly to cause this change in energy."
   ]
  },
  {
   "cell_type": "markdown",
   "metadata": {},
   "source": [
    "#### QUESTION\n",
    "What is an energy minimization? Why do we want to perform a local energy minimization at the start of our simulation?\n",
    "\n",
    "#### RESPONSE\n",
    "Energy minimization is a process that finding the set of arrangements of atoms and bonds which resulting in a local minimum. \n",
    "Because the original coordinates in the pdb file might produce very large forces."
   ]
  },
  {
   "cell_type": "markdown",
   "metadata": {},
   "source": [
    "---"
   ]
  },
  {
   "cell_type": "markdown",
   "metadata": {},
   "source": [
    "### Equilibration\n",
    "Next, we run an equilibration. The purpose of this equilibration is to get our system to our target temperature and to get the system equilibrated and ready for our production run."
   ]
  },
  {
   "cell_type": "code",
   "execution_count": 8,
   "metadata": {},
   "outputs": [
    {
     "name": "stdout",
     "output_type": "stream",
     "text": [
      "Equilibrating...\n",
      "#\"Step\",\"Potential Energy (kJ/mole)\",\"Temperature (K)\"\n",
      "100,9.057967630084883,173.39143075675946\n",
      "200,13.994100078333183,358.4119716930473\n",
      "300,12.307925837349593,446.7322707801334\n",
      "400,18.587423047434978,405.41938823112804\n",
      "500,14.334824674557916,201.80901344717742\n",
      "600,20.29947985545899,117.91343409847461\n",
      "700,26.74921734146932,132.64321552517066\n",
      "800,20.414112863481233,260.77389016063375\n",
      "900,14.298435554216233,240.73035117872058\n",
      "1000,46.31030079199623,164.63041603804564\n",
      "1100,12.014404257425065,505.08635634063916\n",
      "1200,38.41477123605108,121.52865785979976\n",
      "1300,20.301992197764427,189.15115735514937\n",
      "1400,19.300330058833943,333.7786935568528\n",
      "1500,32.854722070604424,175.434768578576\n",
      "1600,19.798856461980417,282.52816733446576\n",
      "1700,18.094125789935358,211.48052474393384\n",
      "1800,21.546725776531098,211.48128463215858\n",
      "1900,15.417801441670193,307.0839998305329\n",
      "2000,27.984924222552575,184.72594499577878\n",
      "2100,12.713238612254724,370.9179701399548\n",
      "2200,27.66422647448036,155.4184171751599\n",
      "2300,16.398947390338055,411.5706511355615\n",
      "2400,21.97669807372428,231.694181405396\n",
      "2500,12.23460116222211,174.81231921470447\n"
     ]
    }
   ],
   "source": [
    "from sys import stdout\n",
    "\n",
    "print('Equilibrating...')\n",
    "\n",
    "simulation.reporters.append(app.StateDataReporter(stdout, 100, step=True, \n",
    "    potentialEnergy=True, temperature=True, separator=','))\n",
    "simulation.context.setVelocitiesToTemperature(150.0*unit.kelvin)\n",
    "simulation.step(2500)"
   ]
  },
  {
   "cell_type": "markdown",
   "metadata": {},
   "source": [
    "The first command in this section sets up what information OpenMM will report to us as the simulation runs. We are asking for the potential energy, and temperature every 100 timesteps. By putting `stdout` as the first argument, we are telling the program to just print the information. Note that `stdout` comes from the built in Python module `sys`. If we wanted the information in a file instead, you would put the file name.\n",
    "\n",
    "The second command sets the initial velocities of the system to a temperature equivalent of 150 K. Then, we integrate for 2,500 steps to allow the system to equilibrate."
   ]
  },
  {
   "cell_type": "markdown",
   "metadata": {},
   "source": [
    "---"
   ]
  },
  {
   "cell_type": "markdown",
   "metadata": {},
   "source": [
    "### Production\n",
    "This next block of code is a longer block of simulation called the ‘production run’. We’re also added a timer to this code so we can see how long it took our simulation to run."
   ]
  },
  {
   "cell_type": "code",
   "execution_count": 9,
   "metadata": {},
   "outputs": [
    {
     "name": "stdout",
     "output_type": "stream",
     "text": [
      "Running Production...\n",
      "#\"Step\",\"Time (ps)\",\"Potential Energy (kJ/mole)\",\"Temperature (K)\",\"Speed (ns/day)\"\n",
      "250000,500.0000000016593,24.40853583453724,458.63632904596807,0\n",
      "500000,999.9999999901769,20.819519281713088,320.68116710033473,4.06e+04\n",
      "750000,1499.9999999783536,28.98427485833021,341.2759264162443,4.06e+04\n",
      "1000000,1999.9999999665301,23.31288658787624,463.34502326251527,4.05e+04\n",
      "1250000,2499.9999999547067,13.337890546840871,214.7090305544157,4.05e+04\n",
      "1500000,2999.9999999428833,28.994262830794817,514.8694659563629,4.03e+04\n",
      "1750000,3499.99999993106,19.877714601322406,690.7215456751239,4.03e+04\n",
      "2000000,3999.9999999192364,18.065131992410077,224.9501971596556,4.03e+04\n",
      "2250000,4499.9999999992715,18.510742210971845,213.45874064076423,4.04e+04\n",
      "2500000,5000.000000101135,27.78459567450929,328.60909855597197,4.03e+04\n",
      "2750000,5500.000000202998,18.02959420815834,174.99958999424967,4.03e+04\n",
      "3000000,6000.000000304862,14.388646373126655,162.68225079335798,4e+04\n",
      "3250000,6500.000000406725,18.732248864902814,218.456443088205,4.01e+04\n",
      "3500000,7000.0000005085885,19.551651520180965,209.4422560955849,4e+04\n",
      "3750000,7500.000000610452,12.462692112678614,255.079006228763,4e+04\n",
      "4000000,8000.000000712315,14.49016599746501,214.34583310431108,4e+04\n",
      "4250000,8500.000000814178,32.1971450863347,347.07623972071985,4e+04\n",
      "4500000,9000.000000916041,31.183946521945323,248.33954895175623,4e+04\n",
      "4750000,9500.000001017905,24.805563453890997,292.7523181435517,4.01e+04\n",
      "5000000,10000.000001119768,24.22921468291204,190.1864162356709,4.01e+04\n",
      "5250000,10500.000001221631,23.414729788647463,309.6668064391745,4.01e+04\n",
      "5500000,11000.000001323495,13.521206143242935,343.97124507444505,4.01e+04\n",
      "5750000,11500.000001425358,23.251968552447366,320.5000903718494,4.01e+04\n",
      "6000000,12000.000001527222,25.779960011307345,172.10891748107224,4.01e+04\n",
      "6250000,12500.000001629085,26.029797771048752,233.33824995151255,4.01e+04\n",
      "6500000,13000.000001730948,21.068265201243378,445.05400393692895,4.01e+04\n",
      "6750000,13500.000001832812,27.24211846334928,340.7790505570894,4.01e+04\n",
      "7000000,14000.000001934675,16.9636093428433,288.51627231398516,4.01e+04\n",
      "7250000,14500.000002036539,29.34346196781831,208.65501347538333,4.01e+04\n",
      "7500000,15000.000002138402,29.910114270084186,353.3136289008235,4.01e+04\n",
      "7750000,15500.000002240266,13.157974596237034,234.8661710048701,4.01e+04\n",
      "8000000,16000.000002342129,17.704395156878707,219.795677243422,4.01e+04\n",
      "8250000,16500.00000244399,24.07195889150377,338.3335005674176,4e+04\n",
      "8500000,17000.000002545854,21.450120242364378,265.2156041928072,4e+04\n",
      "8750000,17500.000002647717,20.2740842682545,785.0608841369282,4e+04\n",
      "9000000,18000.00000274958,28.709071430445313,218.90668043908835,4e+04\n",
      "9250000,18500.000002851444,20.73735636818102,323.8885391039339,4e+04\n",
      "9500000,19000.000002953308,21.85029809052731,202.4961837021104,4e+04\n",
      "9750000,19500.00000305517,14.460915493380064,326.6747764729594,4e+04\n",
      "10000000,20000.000003157034,18.08197022679587,398.44325411475137,4e+04\n",
      "Done!\n",
      "Time required for simulation: 43.23157596588135 seconds\n"
     ]
    }
   ],
   "source": [
    "import time as time\n",
    "\n",
    "print('Running Production...')\n",
    "\n",
    "# Begin timer\n",
    "tinit=time.time()\n",
    "\n",
    "# Clear simulation reporters\n",
    "simulation.reporters.clear()\n",
    "\n",
    "# Reinitialize simulation reporters. We do this because we want different information printed from the production run than the equilibration run.\n",
    "# output basic simulation information below every 250000 steps - (which is equal to 2 fs(250,000) = 500,000 fs = 500 ps)\n",
    "simulation.reporters.append(app.StateDataReporter(stdout, 250000, \n",
    "    step=True, time=True, potentialEnergy=True, temperature=True, \n",
    "    speed=True, separator=','))\n",
    "\n",
    "# write out a trajectory (i.e., coordinates vs. time) to a DCD\n",
    "# file every 100 steps - 0.2 ps\n",
    "simulation.reporters.append(app.DCDReporter('ethane_sim.dcd', 100))\n",
    "\n",
    "# run the simulation for 1.0x10^7 steps - 20 ns\n",
    "simulation.step(10000000)\n",
    "\n",
    "# End timer\n",
    "tfinal=time.time()\n",
    "print('Done!')\n",
    "print('Time required for simulation:', tfinal-tinit, 'seconds')"
   ]
  },
  {
   "cell_type": "markdown",
   "metadata": {},
   "source": [
    "After executing this cell in your notebook, you should see an output which gives you the step number, simulation time, potential energy, temperature, and “speed” for steps in the simulation. The spacing of theses is set in the `simulation.reporters` step where we indicated we wanted information printed every 250,000 timesteps.\n",
    "\n",
    "The “speed” is reported in “ns/day” or “nanoseconds/day”. This is a commonly used unit to report how quickly simulations run. It tells you how much simulation time in nanoseconds would pass for 24 hours of computation time. For example, if a simulation is running at 2 ns/day, enough timesteps would be calculated in one day to make 2 nanoseconds of simulation time. If we were using our 2 fs timestep, this would mean that the computer calculated 1,000,000 timesteps over 24 hours."
   ]
  },
  {
   "cell_type": "markdown",
   "metadata": {},
   "source": [
    "---"
   ]
  },
  {
   "cell_type": "markdown",
   "metadata": {},
   "source": [
    "## Your Turn\n",
    "Make a copy of the code you wrote to run your ethane simulation and modify it to:\n",
    "1. Read in the files `butane.gaff2.xml` and `butane.pdb`\n",
    "2. Carry out a 10 ps MD simulation to bring the butane molecule to an equilibrium temperature of 298 K in which output is printed every 0.5 ps (Leave the minimization portion beforehand unchanged.)\n",
    "3. Carry out a 40 ns MD simulation at 298 K in which output is printed every 1 ns and structures are (still) saved every 0.2 ps into a file called `butane_sim.dcd`."
   ]
  },
  {
   "cell_type": "code",
   "execution_count": 10,
   "metadata": {},
   "outputs": [
    {
     "name": "stdout",
     "output_type": "stream",
     "text": [
      "Minimizing...\n",
      "Potential energy before minimization is 5.797528692127868 kJ/mol\n",
      "Potential energy after minimization is 5.295784483017486 kJ/mol\n",
      "Equilibrating...\n",
      "#\"Step\",\"Potential Energy (kJ/mole)\",\"Temperature (K)\"\n",
      "250,39.00314441847536,269.4009385239086\n",
      "500,21.70809069643997,360.2231017382029\n",
      "750,50.67018850843031,495.7787751495472\n",
      "1000,38.314651890416364,262.5680582890137\n",
      "1250,36.480899034413916,279.668860467097\n",
      "1500,53.655619559827784,318.2135063910808\n",
      "1750,29.718012055818,274.31935056426295\n",
      "2000,42.43817369091339,203.38282126047878\n",
      "2250,41.548427884907184,249.35005327743423\n",
      "2500,30.77433719844061,296.50346338279263\n",
      "2750,28.635404667785096,219.8194738487674\n",
      "3000,40.14634450893739,277.84566727272926\n",
      "3250,26.96480580549318,158.13019862442633\n",
      "3500,48.87904980038616,248.1648589775227\n",
      "3750,48.017744392055256,269.35641245748275\n",
      "4000,22.777796666922583,247.46322031438118\n",
      "4250,64.53378212829637,278.46769494135486\n",
      "4500,24.017047584979537,342.6139710355172\n",
      "4750,29.449608656661866,299.125623021068\n",
      "5000,38.66648462965051,200.7219192220065\n",
      "Running Production...\n",
      "#\"Step\",\"Time (ps)\",\"Potential Energy (kJ/mole)\",\"Temperature (K)\",\"Speed (ns/day)\"\n",
      "500000,999.9999999901769,28.921167013848915,457.41901035521374,0\n",
      "1000000,1999.9999999665301,40.052633000508195,548.3530464527121,1.99e+04\n",
      "1500000,2999.9999999428833,27.569775682952738,198.29753682677165,1.98e+04\n",
      "2000000,3999.9999999192364,39.57525077410132,308.0336793791033,1.98e+04\n",
      "2500000,5000.000000101135,41.93098476399891,403.72027658862083,1.98e+04\n",
      "3000000,6000.000000304862,45.621214410457604,376.3575421336748,1.97e+04\n",
      "3500000,7000.0000005085885,33.98160985044157,311.98917765552443,1.97e+04\n",
      "4000000,8000.000000712315,60.799879974936836,272.0243018963446,1.97e+04\n",
      "4500000,9000.000000916041,43.69364589247228,302.4594979502442,1.97e+04\n",
      "5000000,10000.000001119768,45.9297484360346,385.35775522543264,1.97e+04\n",
      "5500000,11000.000001323495,32.93269358090713,234.20995563209178,1.97e+04\n",
      "6000000,12000.000001527222,42.24637788012832,268.6102661365188,1.95e+04\n",
      "6500000,13000.000001730948,44.07166868955835,266.12611353630075,1.95e+04\n",
      "7000000,14000.000001934675,38.23783324419615,365.8726884444755,1.95e+04\n",
      "7500000,15000.000002138402,42.73519624447542,385.7945147165497,1.95e+04\n",
      "8000000,16000.000002342129,50.1593949447068,440.6405086830759,1.95e+04\n",
      "8500000,17000.000002545854,48.613653078218505,259.46591562849886,1.95e+04\n",
      "9000000,18000.00000274958,41.46754241016452,288.5337080936253,1.95e+04\n",
      "9500000,19000.000002953308,44.44234265853837,296.62195604585565,1.95e+04\n",
      "10000000,20000.000003157034,55.35452292066469,246.2418277114038,1.95e+04\n",
      "10500000,21000.00000336076,38.95006992538548,268.3918936041268,1.95e+04\n",
      "11000000,22000.000003564488,43.670994631465625,252.782058519656,1.95e+04\n",
      "11500000,23000.000003768215,43.10690517948059,269.5692141931428,1.95e+04\n",
      "12000000,24000.00000397194,57.59046475071591,436.8668116848117,1.95e+04\n",
      "12500000,25000.00000417567,29.457085228277993,422.08929972953325,1.95e+04\n",
      "13000000,26000.000004379395,39.69611672225342,245.26767608510414,1.95e+04\n",
      "13500000,27000.000004583122,43.175843408233035,336.22651021758423,1.95e+04\n",
      "14000000,28000.00000478685,49.525634688616314,308.5682251243498,1.95e+04\n",
      "14500000,29000.000004990576,46.73616275603217,187.86918937229015,1.95e+04\n",
      "15000000,30000.000005194303,52.53886981021924,233.38005985780254,1.95e+04\n",
      "15500000,31000.00000539803,38.497327220672354,225.96097616120053,1.95e+04\n",
      "16000000,32000.000005601756,33.19391119793904,263.1451173997857,1.95e+04\n",
      "16500000,33000.00000580548,47.40782901440148,328.3268844170456,1.95e+04\n",
      "17000000,34000.000006009206,43.43016169987838,324.6883933248564,1.95e+04\n",
      "17500000,35000.00000621293,39.73887871304011,465.8342100125214,1.95e+04\n",
      "18000000,36000.00000641666,21.707741636053154,310.7450734548204,1.95e+04\n",
      "18500000,37000.00000662039,33.02035284936242,247.65246555709678,1.95e+04\n",
      "19000000,38000.00000682411,27.45873571461713,263.83486891142826,1.95e+04\n",
      "19500000,39000.00000702784,39.27012737863623,417.98424649494797,1.95e+04\n",
      "20000000,40000.00000723157,21.55535898156922,248.2544578719399,1.95e+04\n",
      "Done!\n",
      "Time required for simulation: 176.96407103538513 seconds\n"
     ]
    }
   ],
   "source": [
    "import openmm as mm\n",
    "from openmm import app, unit\n",
    "import time as time\n",
    "from sys import stdout\n",
    "\n",
    "pdb = app.PDBFile('data/butane.pdb')\n",
    "forcefield = app.ForceField('data/butane.gaff2.xml')\n",
    "\n",
    "system = forcefield.createSystem(pdb.topology, nonbondedMethod=app.NoCutoff, constraints=app.HBonds)\n",
    "\n",
    "integrator = mm.LangevinIntegrator(298.15*unit.kelvin, 5.0/unit.picoseconds, 2.0*unit.femtoseconds)\n",
    "integrator.setConstraintTolerance(1e-5)\n",
    "\n",
    "platform = mm.Platform.getPlatformByName('Reference')\n",
    "simulation = app.Simulation(pdb.topology, system, integrator, platform)\n",
    "simulation.context.setPositions(pdb.positions)\n",
    "\n",
    "print('Minimizing...')\n",
    "\n",
    "st = simulation.context.getState(getPositions=True,getEnergy=True)\n",
    "print(F\"Potential energy before minimization is {st.getPotentialEnergy()}\")\n",
    "\n",
    "simulation.minimizeEnergy(maxIterations=100)\n",
    "\n",
    "st = simulation.context.getState(getPositions=True,getEnergy=True)\n",
    "print(F\"Potential energy after minimization is {st.getPotentialEnergy()}\")\n",
    "\n",
    "print('Equilibrating...')\n",
    "\n",
    "\n",
    "# Every 0.5 ps, total 10 ps\n",
    "simulation.reporters.append(app.StateDataReporter(stdout, 250, step=True, \n",
    "    potentialEnergy=True, temperature=True, separator=','))\n",
    "simulation.context.setVelocitiesToTemperature(298.0*unit.kelvin)\n",
    "simulation.step(5000)\n",
    "\n",
    "print('Running Production...')\n",
    "\n",
    "# Begin timer\n",
    "tinit=time.time()\n",
    "\n",
    "# Clear simulation reporters\n",
    "simulation.reporters.clear()\n",
    "\n",
    "# Reinitialize simulation reporters. We do this because we want different information printed from the production run than the equilibration run.\n",
    "# output basic simulation information below every 500000 steps - (which is equal to 2 fs(500,000) = 1,000,000 fs = 1 ns)\n",
    "simulation.reporters.append(app.StateDataReporter(stdout, 500000, \n",
    "    step=True, time=True, potentialEnergy=True, temperature=True, \n",
    "    speed=True, separator=','))\n",
    "\n",
    "# write out a trajectory (i.e., coordinates vs. time) to a DCD\n",
    "# file every 100 steps - 0.2 ps\n",
    "simulation.reporters.append(app.DCDReporter('butane_sim.dcd', 100))\n",
    "\n",
    "# run the simulation for 40 ns\n",
    "simulation.step(20000000)\n",
    "\n",
    "# End timer\n",
    "tfinal=time.time()\n",
    "print('Done!')\n",
    "print('Time required for simulation:', tfinal-tinit, 'seconds')"
   ]
  },
  {
   "cell_type": "markdown",
   "metadata": {},
   "source": [
    "---"
   ]
  },
  {
   "cell_type": "markdown",
   "metadata": {},
   "source": [
    "## Analysis\n",
    "Now that we’ve performed our computer experiment, it is time to analyze the data we have collected. The main type of data you have collected through this simulation is information on atom positions, or the system trajectory.\n",
    "\n",
    "As part of our production simulation, we set up a reporter to record atomic positions. The code below shows that code from your previous script, **you do not need to execute it.**"
   ]
  },
  {
   "cell_type": "code",
   "execution_count": null,
   "metadata": {},
   "outputs": [],
   "source": [
    "simulation.reporters.append(app.DCDReporter('ethane_sim.dcd', 100))"
   ]
  },
  {
   "cell_type": "markdown",
   "metadata": {},
   "source": [
    "This reporter saved the atomic positions for us every 100 timesteps in a file called `ethane_sim.dcd`. The DCD file format is a binary file (instead of being a text file), so you cannot open it and look at it. However, we will be using certain libraries to analyze and view the file’s contents. If you’ve run your simulation, you should have the file `ethane_sim.dcd` in the same folder as your Jupyter notebook.\n",
    "\n",
    "First, we will need to make sure we have a few more Python libraries installed which can help us with analysis. We will use a library called **nglview** to visualize the trajectory, and a library called **MDTraj** to analyze the trajectory. Before opening a new notebook for analysis, you may need to install **nglview** and **MDTraj**.\n",
    "\n",
    "Type the following in your *terminal* to install **nglview** and **MDTraj**:"
   ]
  },
  {
   "cell_type": "code",
   "execution_count": null,
   "metadata": {},
   "outputs": [],
   "source": [
    "$ conda install -c conda-forge mdtraj nglview"
   ]
  },
  {
   "cell_type": "code",
   "execution_count": 11,
   "metadata": {},
   "outputs": [],
   "source": [
    "import mdtraj as md\n",
    "\n",
    "traj = md.load('ethane_sim.dcd', top='data/ethane.pdb')"
   ]
  },
  {
   "cell_type": "markdown",
   "metadata": {},
   "source": [
    "The command above reads all of the atomic positions from `ethane_sim.dcd` and keeps track of atom connectivity (topology) which was given in the PDB file. Next, visualize the trajectory using nglview. Nglview has a special function `show_mdtraj` that we can use with our trajectory because it was in a specific format from the MDTraj library."
   ]
  },
  {
   "cell_type": "code",
   "execution_count": 12,
   "metadata": {},
   "outputs": [
    {
     "data": {
      "application/vnd.jupyter.widget-view+json": {
       "model_id": "6c06fb0b423a4cf5966844630ab2daf5",
       "version_major": 2,
       "version_minor": 0
      },
      "text/plain": []
     },
     "metadata": {},
     "output_type": "display_data"
    },
    {
     "data": {
      "application/vnd.jupyter.widget-view+json": {
       "model_id": "9d008f86f79f4d159d7cd92a31012169",
       "version_major": 2,
       "version_minor": 0
      },
      "text/plain": [
       "NGLWidget(max_frame=99999)"
      ]
     },
     "metadata": {},
     "output_type": "display_data"
    }
   ],
   "source": [
    "import nglview as ngl\n",
    "\n",
    "visualize = ngl.show_mdtraj(traj)\n",
    "visualize"
   ]
  },
  {
   "cell_type": "markdown",
   "metadata": {},
   "source": [
    "This should show you something that looks sort of like a movie of your ethane molecule. These are the atomic positions calculated by OpenMM during the molecular dynamics run. We can now analyze the positions to find out some things about our molecule.\n",
    "\n",
    "We will use another OpenMM command to pull out our bonds and atoms for analysis"
   ]
  },
  {
   "cell_type": "code",
   "execution_count": 13,
   "metadata": {},
   "outputs": [
    {
     "data": {
      "text/html": [
       "<div>\n",
       "<style scoped>\n",
       "    .dataframe tbody tr th:only-of-type {\n",
       "        vertical-align: middle;\n",
       "    }\n",
       "\n",
       "    .dataframe tbody tr th {\n",
       "        vertical-align: top;\n",
       "    }\n",
       "\n",
       "    .dataframe thead th {\n",
       "        text-align: right;\n",
       "    }\n",
       "</style>\n",
       "<table border=\"1\" class=\"dataframe\">\n",
       "  <thead>\n",
       "    <tr style=\"text-align: right;\">\n",
       "      <th></th>\n",
       "      <th>serial</th>\n",
       "      <th>name</th>\n",
       "      <th>element</th>\n",
       "      <th>resSeq</th>\n",
       "      <th>resName</th>\n",
       "      <th>chainID</th>\n",
       "      <th>segmentID</th>\n",
       "    </tr>\n",
       "  </thead>\n",
       "  <tbody>\n",
       "    <tr>\n",
       "      <th>0</th>\n",
       "      <td>1</td>\n",
       "      <td>C1</td>\n",
       "      <td>C</td>\n",
       "      <td>1</td>\n",
       "      <td>ETH</td>\n",
       "      <td>0</td>\n",
       "      <td></td>\n",
       "    </tr>\n",
       "    <tr>\n",
       "      <th>1</th>\n",
       "      <td>2</td>\n",
       "      <td>H11</td>\n",
       "      <td>H</td>\n",
       "      <td>1</td>\n",
       "      <td>ETH</td>\n",
       "      <td>0</td>\n",
       "      <td></td>\n",
       "    </tr>\n",
       "    <tr>\n",
       "      <th>2</th>\n",
       "      <td>3</td>\n",
       "      <td>H12</td>\n",
       "      <td>H</td>\n",
       "      <td>1</td>\n",
       "      <td>ETH</td>\n",
       "      <td>0</td>\n",
       "      <td></td>\n",
       "    </tr>\n",
       "    <tr>\n",
       "      <th>3</th>\n",
       "      <td>4</td>\n",
       "      <td>H13</td>\n",
       "      <td>H</td>\n",
       "      <td>1</td>\n",
       "      <td>ETH</td>\n",
       "      <td>0</td>\n",
       "      <td></td>\n",
       "    </tr>\n",
       "    <tr>\n",
       "      <th>4</th>\n",
       "      <td>5</td>\n",
       "      <td>C2</td>\n",
       "      <td>C</td>\n",
       "      <td>1</td>\n",
       "      <td>ETH</td>\n",
       "      <td>0</td>\n",
       "      <td></td>\n",
       "    </tr>\n",
       "    <tr>\n",
       "      <th>5</th>\n",
       "      <td>6</td>\n",
       "      <td>H21</td>\n",
       "      <td>H</td>\n",
       "      <td>1</td>\n",
       "      <td>ETH</td>\n",
       "      <td>0</td>\n",
       "      <td></td>\n",
       "    </tr>\n",
       "    <tr>\n",
       "      <th>6</th>\n",
       "      <td>7</td>\n",
       "      <td>H22</td>\n",
       "      <td>H</td>\n",
       "      <td>1</td>\n",
       "      <td>ETH</td>\n",
       "      <td>0</td>\n",
       "      <td></td>\n",
       "    </tr>\n",
       "    <tr>\n",
       "      <th>7</th>\n",
       "      <td>8</td>\n",
       "      <td>H23</td>\n",
       "      <td>H</td>\n",
       "      <td>1</td>\n",
       "      <td>ETH</td>\n",
       "      <td>0</td>\n",
       "      <td></td>\n",
       "    </tr>\n",
       "  </tbody>\n",
       "</table>\n",
       "</div>"
      ],
      "text/plain": [
       "   serial name element  resSeq resName  chainID segmentID\n",
       "0       1   C1       C       1     ETH        0          \n",
       "1       2  H11       H       1     ETH        0          \n",
       "2       3  H12       H       1     ETH        0          \n",
       "3       4  H13       H       1     ETH        0          \n",
       "4       5   C2       C       1     ETH        0          \n",
       "5       6  H21       H       1     ETH        0          \n",
       "6       7  H22       H       1     ETH        0          \n",
       "7       8  H23       H       1     ETH        0          "
      ]
     },
     "execution_count": 13,
     "metadata": {},
     "output_type": "execute_result"
    }
   ],
   "source": [
    "atoms, bonds = traj.topology.to_dataframe()\n",
    "atoms"
   ]
  },
  {
   "cell_type": "markdown",
   "metadata": {},
   "source": [
    "#### QUESTION\n",
    "Describe the table that `atoms` produced.\n",
    "\n",
    "#### RESPONSE\n",
    "It shows the ethane with 8 atoms. The Hydrogen atoms are specified by the Carbon atoms it attached on, for example `C1` carbon is attaching with `H11`, `H12`, and `H13` three Hydrogen atoms."
   ]
  },
  {
   "cell_type": "markdown",
   "metadata": {},
   "source": [
    "### Analyzing the C-C bond length\n",
    "Let’s look at what C-C bond lengths our ethane molecule had during the simulation. Before we can measure the bond lengths, we have to decide which atoms from our molecule define the bond angle. You should see a table output from running `atoms`.\n",
    "\n",
    "We have to pick the atom indices for the C-C bond. An atom’s index is the left-most value in the table above. For our torsion, we’ll measure `C1-C2` the indices for these are `0` and `4`. We use the function `compute_distances` in the MDTraj library to measure the distance between these atoms."
   ]
  },
  {
   "cell_type": "code",
   "execution_count": 14,
   "metadata": {},
   "outputs": [],
   "source": [
    "bond_indices = [0, 4] # atoms to define the bond length\n",
    "bond_length = md.compute_distances(traj, [bond_indices])"
   ]
  },
  {
   "cell_type": "markdown",
   "metadata": {},
   "source": [
    "We now have the measurement for this torsion angle in radians for each recorded timestep of the trajectory saved in the array `bond_length`. One way we can examine this data is by plotting it as a histogram using the Python library `matplotlib`."
   ]
  },
  {
   "cell_type": "code",
   "execution_count": 15,
   "metadata": {},
   "outputs": [
    {
     "data": {
      "image/png": "[encoded data removed]",
      "text/plain": [
       "<Figure size 640x480 with 1 Axes>"
      ]
     },
     "metadata": {},
     "output_type": "display_data"
    }
   ],
   "source": [
    "import matplotlib.pyplot as plt\n",
    "\n",
    "bondcounts, binedges, otherstuff = plt.hist(bond_length, bins=120)\n",
    "plt.title('C-C bond length histogram')\n",
    "plt.xlabel('Bond length (nm)')\n",
    "plt.ylabel('Counts')\n",
    "plt.show()"
   ]
  },
  {
   "cell_type": "markdown",
   "metadata": {},
   "source": [
    "## Your Turn\n",
    "A torsion is made up of four atoms which are bonded to each other. Analyze the torsion angle associated with the atoms `H11-C1-C2-H21` for your trajectory. Instead of using the function `compute_distance`, use `compute_dihedrals`. Create a histogram plot of the torsion angles.\n",
    "\n",
    "First, we need to pick the atom indices of our torsion angle and use the `compute_dihedrals` function to calculate the dihedrals."
   ]
  },
  {
   "cell_type": "code",
   "execution_count": 29,
   "metadata": {},
   "outputs": [
    {
     "name": "stdout",
     "output_type": "stream",
     "text": [
      "[[ 1.3142321]\n",
      " [ 1.0576149]\n",
      " [ 0.7498143]\n",
      " ...\n",
      " [-0.6018369]\n",
      " [-0.7240137]\n",
      " [-1.1177353]]\n"
     ]
    }
   ],
   "source": [
    "phi_indices = [[1,0,4,5]] # add atoms to define the torsion angle\n",
    "phi = md.compute_dihedrals(traj,phi_indices)# use the compute_dihedrals function\n",
    "\n",
    "print(phi)"
   ]
  },
  {
   "cell_type": "markdown",
   "metadata": {},
   "source": [
    "We now have the measurement for this torsion angle in radians for each recorded timestep of the trajectory.\n",
    "\n",
    "Next, we can examine this data by plotting it as a histogram using the Python library `matplotlib`."
   ]
  },
  {
   "cell_type": "code",
   "execution_count": 31,
   "metadata": {},
   "outputs": [
    {
     "data": {
      "image/png": "[encoded data removed]",
      "text/plain": [
       "<Figure size 640x480 with 1 Axes>"
      ]
     },
     "metadata": {},
     "output_type": "display_data"
    }
   ],
   "source": [
    "import matplotlib.pyplot as plt\n",
    "\n",
    "bondcounts, binedges, otherstuff = plt.hist(phi, bins=90)\n",
    "plt.title('H11-C1-C2-H21 torsion angles histogram')\n",
    "plt.xlabel('Torsion Angle (radius)')\n",
    "plt.ylabel('Counts')\n",
    "plt.show()\n",
    "\n",
    "# create a histogram with 90 bins"
   ]
  },
  {
   "cell_type": "markdown",
   "metadata": {},
   "source": [
    "Credit for this exercise goes to [MolSSI](https://education.molssi.org/mm-tools/02-md-alkanes/index.html)."
   ]
  },
  {
   "cell_type": "markdown",
   "metadata": {},
   "source": [
    "### Reflection:\n",
    "The histogram shows that the H11 and H21 atoms are tend to have an angel of $\\pi$/3 and $\\pi$, which make sense."
   ]
  }
 ],
 "metadata": {
  "kernelspec": {
   "display_name": "Python 3 (ipykernel)",
   "language": "python",
   "name": "python3"
  },
  "language_info": {
   "codemirror_mode": {
    "name": "ipython",
    "version": 3
   },
   "file_extension": ".py",
   "mimetype": "text/x-python",
   "name": "python",
   "nbconvert_exporter": "python",
   "pygments_lexer": "ipython3",
   "version": "3.9.13"
  },
  "vscode": {
   "interpreter": {
    "hash": "31f2aee4e71d21fbe5cf8b01ff0e069b9275f58929596ceb00d14d90e3e16cd6"
   }
  }
 },
 "nbformat": 4,
 "nbformat_minor": 2
}
